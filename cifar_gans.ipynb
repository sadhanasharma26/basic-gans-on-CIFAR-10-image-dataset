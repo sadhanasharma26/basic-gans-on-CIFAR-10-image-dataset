{
  "nbformat": 4,
  "nbformat_minor": 0,
  "metadata": {
    "colab": {
      "provenance": [],
      "authorship_tag": "ABX9TyNwO1JpGqotIYFFsSPOYSgA",
      "include_colab_link": true
    },
    "kernelspec": {
      "name": "python3",
      "display_name": "Python 3"
    },
    "language_info": {
      "name": "python"
    }
  },
  "cells": [
    {
      "cell_type": "markdown",
      "metadata": {
        "id": "view-in-github",
        "colab_type": "text"
      },
      "source": [
        "<a href=\"https://colab.research.google.com/github/sadhanasharma26/basic-gans-on-CIFAR-10-image-dataset/blob/main/cifar_gans.ipynb\" target=\"_parent\"><img src=\"https://colab.research.google.com/assets/colab-badge.svg\" alt=\"Open In Colab\"/></a>"
      ]
    },
    {
      "cell_type": "code",
      "execution_count": 1,
      "metadata": {
        "id": "5BPb6OEpmFpe"
      },
      "outputs": [],
      "source": [
        "\n",
        "import torch\n",
        "import torch.nn as nn\n",
        "import torch.optim as optim\n",
        "import torchvision\n",
        "from torchvision import datasets, transforms\n",
        "import matplotlib.pyplot as plt\n",
        "import numpy as np\n",
        "\n",
        "# Set device\n",
        "device = torch.device('cuda' if torch.cuda.is_available() else 'cpu')"
      ]
    },
    {
      "cell_type": "code",
      "source": [
        "# Define a basic transform\n",
        "transform = transforms.Compose([\n",
        "\ttransforms.ToTensor(),\n",
        "\ttransforms.Normalize((0.5, 0.5, 0.5), (0.5, 0.5, 0.5))\n",
        "])\n"
      ],
      "metadata": {
        "id": "sMGNUbizmMuW"
      },
      "execution_count": 2,
      "outputs": []
    },
    {
      "cell_type": "code",
      "source": [
        "train_dataset = datasets.CIFAR10(root='./data',\\\n",
        "\t\t\ttrain=True, download=True, transform=transform)\n",
        "dataloader = torch.utils.data.DataLoader(train_dataset, \\\n",
        "\t\t\t\t\t\t\t\tbatch_size=32, shuffle=True)\n"
      ],
      "metadata": {
        "colab": {
          "base_uri": "https://localhost:8080/"
        },
        "id": "jcg3J5d-mdc0",
        "outputId": "108edfa8-faf6-42c4-c8f4-8518cf64fda8"
      },
      "execution_count": 3,
      "outputs": [
        {
          "output_type": "stream",
          "name": "stdout",
          "text": [
            "Downloading https://www.cs.toronto.edu/~kriz/cifar-10-python.tar.gz to ./data/cifar-10-python.tar.gz\n"
          ]
        },
        {
          "output_type": "stream",
          "name": "stderr",
          "text": [
            "100%|██████████| 170498071/170498071 [00:04<00:00, 41255488.57it/s]\n"
          ]
        },
        {
          "output_type": "stream",
          "name": "stdout",
          "text": [
            "Extracting ./data/cifar-10-python.tar.gz to ./data\n"
          ]
        }
      ]
    },
    {
      "cell_type": "code",
      "source": [
        "# Hyperparameters\n",
        "latent_dim = 100\n",
        "lr = 0.0002\n",
        "beta1 = 0.5\n",
        "beta2 = 0.999\n",
        "num_epochs = 10\n"
      ],
      "metadata": {
        "id": "77VmcRLVmhCp"
      },
      "execution_count": 4,
      "outputs": []
    },
    {
      "cell_type": "code",
      "source": [
        "# Define the generator\n",
        "class Generator(nn.Module):\n",
        "\tdef __init__(self, latent_dim):\n",
        "\t\tsuper(Generator, self).__init__()\n",
        "\n",
        "\t\tself.model = nn.Sequential(\n",
        "\t\t\tnn.Linear(latent_dim, 128 * 8 * 8),\n",
        "\t\t\tnn.ReLU(),\n",
        "\t\t\tnn.Unflatten(1, (128, 8, 8)),\n",
        "\t\t\tnn.Upsample(scale_factor=2),\n",
        "\t\t\tnn.Conv2d(128, 128, kernel_size=3, padding=1),\n",
        "\t\t\tnn.BatchNorm2d(128, momentum=0.78),\n",
        "\t\t\tnn.ReLU(),\n",
        "\t\t\tnn.Upsample(scale_factor=2),\n",
        "\t\t\tnn.Conv2d(128, 64, kernel_size=3, padding=1),\n",
        "\t\t\tnn.BatchNorm2d(64, momentum=0.78),\n",
        "\t\t\tnn.ReLU(),\n",
        "\t\t\tnn.Conv2d(64, 3, kernel_size=3, padding=1),\n",
        "\t\t\tnn.Tanh()\n",
        "\t\t)\n",
        "\n",
        "\tdef forward(self, z):\n",
        "\t\timg = self.model(z)\n",
        "\t\treturn img\n"
      ],
      "metadata": {
        "id": "bzwoC5X4m26a"
      },
      "execution_count": 5,
      "outputs": []
    },
    {
      "cell_type": "code",
      "source": [
        "# Define the discriminator\n",
        "class Discriminator(nn.Module):\n",
        "\tdef __init__(self):\n",
        "\t\tsuper(Discriminator, self).__init__()\n",
        "\n",
        "\t\tself.model = nn.Sequential(\n",
        "\t\tnn.Conv2d(3, 32, kernel_size=3, stride=2, padding=1),\n",
        "\t\tnn.LeakyReLU(0.2),\n",
        "\t\tnn.Dropout(0.25),\n",
        "\t\tnn.Conv2d(32, 64, kernel_size=3, stride=2, padding=1),\n",
        "\t\tnn.ZeroPad2d((0, 1, 0, 1)),\n",
        "\t\tnn.BatchNorm2d(64, momentum=0.82),\n",
        "\t\tnn.LeakyReLU(0.25),\n",
        "\t\tnn.Dropout(0.25),\n",
        "\t\tnn.Conv2d(64, 128, kernel_size=3, stride=2, padding=1),\n",
        "\t\tnn.BatchNorm2d(128, momentum=0.82),\n",
        "\t\tnn.LeakyReLU(0.2),\n",
        "\t\tnn.Dropout(0.25),\n",
        "\t\tnn.Conv2d(128, 256, kernel_size=3, stride=1, padding=1),\n",
        "\t\tnn.BatchNorm2d(256, momentum=0.8),\n",
        "\t\tnn.LeakyReLU(0.25),\n",
        "\t\tnn.Dropout(0.25),\n",
        "\t\tnn.Flatten(),\n",
        "\t\tnn.Linear(256 * 5 * 5, 1),\n",
        "\t\tnn.Sigmoid()\n",
        "\t)\n",
        "\n",
        "\tdef forward(self, img):\n",
        "\t\tvalidity = self.model(img)\n",
        "\t\treturn validity\n"
      ],
      "metadata": {
        "id": "3omFS0Qzm-vJ"
      },
      "execution_count": 6,
      "outputs": []
    },
    {
      "cell_type": "code",
      "source": [
        "# Define the generator and discriminator\n",
        "# Initialize generator and discriminator\n",
        "generator = Generator(latent_dim).to(device)\n",
        "discriminator = Discriminator().to(device)\n",
        "# Loss function\n",
        "adversarial_loss = nn.BCELoss()\n",
        "# Optimizers\n",
        "optimizer_G = optim.Adam(generator.parameters()\\\n",
        "\t\t\t\t\t\t, lr=lr, betas=(beta1, beta2))\n",
        "optimizer_D = optim.Adam(discriminator.parameters()\\\n",
        "\t\t\t\t\t\t, lr=lr, betas=(beta1, beta2))\n"
      ],
      "metadata": {
        "id": "NLcjkK3QnCK_"
      },
      "execution_count": 7,
      "outputs": []
    },
    {
      "cell_type": "code",
      "source": [
        "# Training loop\n",
        "for epoch in range(num_epochs):\n",
        "\tfor i, batch in enumerate(dataloader):\n",
        "\t# Convert list to tensor\n",
        "\t\treal_images = batch[0].to(device)\n",
        "\t\t# Adversarial ground truths\n",
        "\t\tvalid = torch.ones(real_images.size(0), 1, device=device)\n",
        "\t\tfake = torch.zeros(real_images.size(0), 1, device=device)\n",
        "\t\t# Configure input\n",
        "\t\treal_images = real_images.to(device)\n",
        "\n",
        "\t\t# ---------------------\n",
        "\t\t# Train Discriminator\n",
        "\t\t# ---------------------\n",
        "\t\toptimizer_D.zero_grad()\n",
        "\t\t# Sample noise as generator input\n",
        "\t\tz = torch.randn(real_images.size(0), latent_dim, device=device)\n",
        "\t\t# Generate a batch of images\n",
        "\t\tfake_images = generator(z)\n",
        "\n",
        "\t\t# Measure discriminator's ability\n",
        "\t\t# to classify real and fake images\n",
        "\t\treal_loss = adversarial_loss(discriminator\\\n",
        "\t\t\t\t\t\t\t\t\t(real_images), valid)\n",
        "\t\tfake_loss = adversarial_loss(discriminator\\\n",
        "\t\t\t\t\t\t\t\t\t(fake_images.detach()), fake)\n",
        "\t\td_loss = (real_loss + fake_loss) / 2\n",
        "\t\t# Backward pass and optimize\n",
        "\t\td_loss.backward()\n",
        "\t\toptimizer_D.step()\n",
        "\n",
        "\t\t# -----------------\n",
        "\t\t# Train Generator\n",
        "\t\t# -----------------\n",
        "\n",
        "\t\toptimizer_G.zero_grad()\n",
        "\t\t# Generate a batch of images\n",
        "\t\tgen_images = generator(z)\n",
        "\t\t# Adversarial loss\n",
        "\t\tg_loss = adversarial_loss(discriminator(gen_images), valid)\n",
        "\t\t# Backward pass and optimize\n",
        "\t\tg_loss.backward()\n",
        "\t\toptimizer_G.step()\n",
        "\t\t# ---------------------\n",
        "\t\t# Progress Monitoring\n",
        "\t\t# ---------------------\n",
        "\t\tif (i + 1) % 100 == 0:\n",
        "\t\t\tprint(\n",
        "\t\t\t\tf\"Epoch [{epoch+1}/{num_epochs}]\\\n",
        "\t\t\t\t\t\tBatch {i+1}/{len(dataloader)} \"\n",
        "\t\t\t\tf\"Discriminator Loss: {d_loss.item():.4f} \"\n",
        "\t\t\t\tf\"Generator Loss: {g_loss.item():.4f}\"\n",
        "\t\t\t)\n",
        "\t# Save generated images for every epoch\n",
        "\tif (epoch + 1) % 10 == 0:\n",
        "\t\twith torch.no_grad():\n",
        "\t\t\tz = torch.randn(16, latent_dim, device=device)\n",
        "\t\t\tgenerated = generator(z).detach().cpu()\n",
        "\t\t\tgrid = torchvision.utils.make_grid(generated,\\\n",
        "\t\t\t\t\t\t\t\t\t\tnrow=4, normalize=True)\n",
        "\t\t\tplt.imshow(np.transpose(grid, (1, 2, 0)))\n",
        "\t\t\tplt.axis(\"off\")\n",
        "\t\t\tplt.show()\n"
      ],
      "metadata": {
        "colab": {
          "base_uri": "https://localhost:8080/"
        },
        "id": "4ji329b8nF6P",
        "outputId": "d931ad1e-011a-48dd-8309-f70fd4d65a23"
      },
      "execution_count": null,
      "outputs": [
        {
          "output_type": "stream",
          "name": "stdout",
          "text": [
            "Epoch [1/10]\t\t\t\t\t\tBatch 100/1563 Discriminator Loss: 0.4357 Generator Loss: 1.6546\n",
            "Epoch [1/10]\t\t\t\t\t\tBatch 200/1563 Discriminator Loss: 0.6858 Generator Loss: 0.9515\n"
          ]
        }
      ]
    },
    {
      "cell_type": "code",
      "source": [],
      "metadata": {
        "id": "GmVIGWqSnI-L"
      },
      "execution_count": null,
      "outputs": []
    }
  ]
}